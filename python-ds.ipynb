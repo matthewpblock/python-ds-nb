{
 "cells": [
  {
   "cell_type": "markdown",
   "metadata": {},
   "source": [
    "# Web Mining and Applied NLP (44-620)\n",
    "\n",
    "## Python Notebooks, Basics, and Data Structures\n",
    "\n",
    "### Student Name: Matthew Block\n",
    "[https://github.com/matthewpblock/python-ds-nb](https://github.com/matthewpblock/python-ds-nb)\n",
    "\n",
    "Perform the tasks described in the Markdown cells below.  When you have completed the assignment make sure your code cells have all been run (and have output beneath them) and ensure you have committed and pushed ALL of your changes to your assignment repository.\n",
    "\n",
    "Every question that requires you to write code will have a code cell underneath it; you may either write your entire solution in that cell or write it in a python file (`.py`), then import and run the appropriate code to answer the question.\n",
    "\n",
    "Do not use external modules (`math`, etc) for this assignment unless you are explicitly instructed to, though you may use built in python functions (`min`, `max`, etc) as you wish."
   ]
  },
  {
   "cell_type": "markdown",
   "metadata": {},
   "source": [
    "## Question 1\n",
    "Modify the Markdown cell above to put your name after \"Student Name:\"; you will be expected to do this in all assignments presented in this format for this class."
   ]
  },
  {
   "cell_type": "markdown",
   "metadata": {},
   "source": [
    "## Question 2\n",
    "Write code that divides any two numbers, stores the result in a variable, and prints the result with an appropriate label."
   ]
  },
  {
   "cell_type": "code",
   "execution_count": 11,
   "metadata": {},
   "outputs": [
    {
     "name": "stdout",
     "output_type": "stream",
     "text": [
      "Division result: 1.05\n"
     ]
    }
   ],
   "source": [
    "# Divide two numbers and print the result\n",
    "x = 21\n",
    "y = 20\n",
    "result = x / y\n",
    "print(f\"Division result: {result}\")\n"
   ]
  },
  {
   "cell_type": "markdown",
   "metadata": {},
   "source": [
    "## Question 3\n",
    "Using loops (and potentially conditionals), write Python code that prints the factorial of each integer from 1 through 10 (which you can store in a variable if you want). The factorial of an integer is the product of all of the integers of 1 through the number. Print the result with an appropriate label."
   ]
  },
  {
   "cell_type": "code",
   "execution_count": 12,
   "metadata": {},
   "outputs": [
    {
     "name": "stdout",
     "output_type": "stream",
     "text": [
      "Factorial of 1 is 1\n",
      "Factorial of 2 is 2\n",
      "Factorial of 3 is 6\n",
      "Factorial of 4 is 24\n",
      "Factorial of 5 is 120\n",
      "Factorial of 6 is 720\n",
      "Factorial of 7 is 5040\n",
      "Factorial of 8 is 40320\n",
      "Factorial of 9 is 362880\n",
      "Factorial of 10 is 3628800\n"
     ]
    }
   ],
   "source": [
    "# Initialize a variable to hold the factorial result\n",
    "factorial = 1\n",
    "\n",
    "# Loop through numbers from 1 to 10\n",
    "for num in range(1, 11):\n",
    "    # Multiply the current factorial by the current number\n",
    "    factorial *= num\n",
    "    # Print the result with a label\n",
    "    print(f\"Factorial of {num} is {factorial}\")"
   ]
  },
  {
   "cell_type": "markdown",
   "metadata": {},
   "source": [
    "## Question 4\n",
    "Write a python function that takes a single parameter and calculates and returns the average (mean) of the values in the parameter (which you may assume is iterable).  Show that your function works by printing the result of calling the function on the list in the cell below."
   ]
  },
  {
   "cell_type": "code",
   "execution_count": 13,
   "metadata": {},
   "outputs": [
    {
     "name": "stdout",
     "output_type": "stream",
     "text": [
      "The average of [1, -1, 2, -2, 3, -3, 4, -4] is 0.0\n"
     ]
    }
   ],
   "source": [
    "def calculate_average(values):\n",
    "    if len(values) == 0:\n",
    "        return None  # Avoid division by zero\n",
    "    return sum(values) / len(values)\n",
    "\n",
    "# Test the function with the provided list\n",
    "testlist = [1, -1, 2, -2, 3, -3, 4, -4]\n",
    "average = calculate_average(testlist)\n",
    "print(f\"The average of {testlist} is {average}\")"
   ]
  },
  {
   "cell_type": "markdown",
   "metadata": {},
   "source": [
    "## Question 5\n",
    "Using your mean function above, write a function that calculates the variance of the list of numbers (see https://en.wikipedia.org/wiki/Variance for more information on the formula). In short:\n",
    "* subtract the mean of the elements in the list from every element in the list; store these values in a new list\n",
    "* square every element in the new list and sum the elements together\n",
    "* divide the resulting number by N (where N is the length of the original list)\n",
    "\n",
    "Show the result of calling your function in the lists in the code cell. You must use one or more list comprehensions or map/filter in your code.\n"
   ]
  },
  {
   "cell_type": "code",
   "execution_count": 14,
   "metadata": {},
   "outputs": [
    {
     "name": "stdout",
     "output_type": "stream",
     "text": [
      "Variance of list1: 1.13973309\n",
      "Variance of list2: 0.9257232841\n"
     ]
    }
   ],
   "source": [
    "# Function to calculate the average of a list of numbers\n",
    "# This function returns None if the list is empty to avoid division by zero\n",
    "def calculate_average(values):\n",
    "    if len(values) == 0:\n",
    "        return None\n",
    "    return sum(values) / len(values)\n",
    "\n",
    "def calculate_variance(values):\n",
    "    mean = calculate_average(values)\n",
    "    squared_diffs = [(x - mean) ** 2 for x in values]\n",
    "    return sum(squared_diffs) / len(values)\n",
    "\n",
    "list1 = [ 5.670e-1, -1.480e+0, -5.570e-1, -1.470e+0, 7.340e-1, 1.050e+0, 4.480e-1, 2.570e-1, -1.970e+0, -1.460e+0]\n",
    "list2 = [-1.780e+0, 2.640e-1, 1.160e+0, 9.080e-1, 1.780e+0, 1.080e+0, 1.050e+0, -4.630e-2, 1.520e+0, 5.350e-1]\n",
    "\n",
    "variance1 = calculate_variance(list1)\n",
    "variance2 = calculate_variance(list2)\n",
    "\n",
    "print(f\"Variance of list1: {variance1}\")\n",
    "print(f\"Variance of list2: {variance2}\")"
   ]
  },
  {
   "cell_type": "markdown",
   "metadata": {},
   "source": [
    "## Question 6\n",
    "Create a list with at least 15 elements in it. Use list slicing to print the following:\n",
    "* The first 5 elements of the list\n",
    "* The last 5 elements of the list\n",
    "* The list reversed (hint, show the entire list with a stride of -1)\n",
    "* Every second element in the list\n",
    "* Every third element in the list (stride of 3)"
   ]
  },
  {
   "cell_type": "code",
   "execution_count": 15,
   "metadata": {},
   "outputs": [
    {
     "name": "stdout",
     "output_type": "stream",
     "text": [
      "First 5 ingredients: ['eggs', 'milk', 'flour', 'sugar', 'butter']\n",
      "Last 5 ingredients: ['cream of tartar', 'cocoa powder', 'lemon zest', 'cornstarch', 'gruyere cheese']\n",
      "Ingredients reversed: ['gruyere cheese', 'cornstarch', 'lemon zest', 'cocoa powder', 'cream of tartar', 'nutmeg', 'spinach', 'cheddar cheese', 'salt', 'vanilla extract', 'butter', 'sugar', 'flour', 'milk', 'eggs']\n",
      "Every second ingredient: ['eggs', 'flour', 'butter', 'salt', 'spinach', 'cream of tartar', 'lemon zest', 'gruyere cheese']\n",
      "Every third ingredient: ['eggs', 'sugar', 'salt', 'nutmeg', 'lemon zest']\n"
     ]
    }
   ],
   "source": [
    "# A list of 15 potential soufflé ingredients\n",
    "souffle_ingredients = [\n",
    "    \"eggs\", \"milk\", \"flour\", \"sugar\", \"butter\",\n",
    "    \"vanilla extract\", \"salt\", \"cheddar cheese\", \"spinach\", \"nutmeg\",\n",
    "    \"cream of tartar\", \"cocoa powder\", \"lemon zest\", \"cornstarch\", \"gruyere cheese\"\n",
    "]\n",
    "\n",
    "# First 5 ingredients\n",
    "print(\"First 5 ingredients:\", souffle_ingredients[:5])\n",
    "\n",
    "# Last 5 ingredients\n",
    "print(\"Last 5 ingredients:\", souffle_ingredients[-5:])\n",
    "\n",
    "# Entire list reversed\n",
    "print(\"Ingredients reversed:\", souffle_ingredients[::-1])\n",
    "\n",
    "# Every second ingredient\n",
    "print(\"Every second ingredient:\", souffle_ingredients[::2])\n",
    "\n",
    "# Every third ingredient\n",
    "print(\"Every third ingredient:\", souffle_ingredients[::3])"
   ]
  },
  {
   "cell_type": "markdown",
   "metadata": {},
   "source": [
    "## Question 7\n",
    "Build a dictionary that contains the following information about this class (with appropriate names as keys):\n",
    "* The name\n",
    "* The course number\n",
    "* The semester/term in which you are taking this course\n",
    "* The number of credit hours this course counts for\n",
    "* A list of the course learning objectives\n",
    "\n",
    "The majority of this information can be found in the syllabus. Print the dictionary."
   ]
  },
  {
   "cell_type": "code",
   "execution_count": 16,
   "metadata": {},
   "outputs": [
    {
     "name": "stdout",
     "output_type": "stream",
     "text": [
      "{'course_name': 'Web Mining & Applied Natural Language Processing (NLP)', 'course_number': 'CSIS 44-620', 'term': 'Summer 2025', 'credit_hours': 3, 'learning_objectives': ['Manage Python libraries and packages', 'Interact with Hosted Version Control Systems (e.g. Git and GitHub', 'Programmatically obtain and transform data from web-based APIs and HTML pages into a usable form.', 'Describe the steps in a basic Natural Language Processing Pipeline', 'Use preexisting tools and software libraries to perform some Natural Language Processing, such as sentiment analysis.Explain results and conclusions drawn from the visualized information.']}\n"
     ]
    }
   ],
   "source": [
    "course_info = {\n",
    "    \"course_name\": \"Web Mining & Applied Natural Language Processing (NLP)\",\n",
    "    \"course_number\": \"CSIS 44-620\",\n",
    "    \"term\": \"Summer 2025\",\n",
    "    \"credit_hours\": 3,\n",
    "    \"learning_objectives\": [\n",
    "        \"Manage Python libraries and packages\",\n",
    "        \"Interact with Hosted Version Control Systems (e.g. Git and GitHub\",\n",
    "        \"Programmatically obtain and transform data from web-based APIs and HTML pages into a usable form.\",\n",
    "        \"Describe the steps in a basic Natural Language Processing Pipeline\",\n",
    "        \"Use preexisting tools and software libraries to perform some Natural Language Processing, such as sentiment analysis.\"\n",
    "        \"Explain results and conclusions drawn from the visualized information.\"\n",
    "    ]\n",
    "}\n",
    "print(course_info)"
   ]
  },
  {
   "cell_type": "markdown",
   "metadata": {},
   "source": [
    "## Question 8\n",
    "Given the dictionary defined in the code cell below, print the list of level 3 spells the character has."
   ]
  },
  {
   "cell_type": "code",
   "execution_count": 17,
   "metadata": {},
   "outputs": [
    {
     "name": "stdout",
     "output_type": "stream",
     "text": [
      "Level 3 spells: ['Mass Healing Word', 'Nondetection', 'Revivify', 'Feign Death', 'Speak with Dead']\n"
     ]
    }
   ],
   "source": [
    "player_character = {'name': 'Kitab',\n",
    "                   'class': [('Cleric: Knowledge', 7)],\n",
    "                   'spells': {'cantrip': ['Guidance', 'Light', 'Thaumaturgy', 'Toll the Dead', 'Word of Radiance'],\n",
    "                             'level 1': ['Command', 'Detect Magic', 'Healing Word', 'Identify', 'Sleep'],\n",
    "                             'level 2': ['Augury', 'Calm Emotions', 'Command', 'Invisibility', 'Lesser Restoration'],\n",
    "                             'level 3': ['Mass Healing Word', 'Nondetection', 'Revivify', 'Feign Death', 'Speak with Dead'],\n",
    "                             'level 4': ['Banishment', 'Confusion']}\n",
    "                   }\n",
    "print(\"Level 3 spells:\", player_character['spells']['level 3'])"
   ]
  },
  {
   "cell_type": "markdown",
   "metadata": {},
   "source": [
    "## Question 9\n",
    "Write code to determine the number of unique elements in the list below.  You MUST use a set in finding your solution.  Print the number of unique values in the list with an appropriate label."
   ]
  },
  {
   "cell_type": "code",
   "execution_count": 18,
   "metadata": {},
   "outputs": [
    {
     "name": "stdout",
     "output_type": "stream",
     "text": [
      "Count of unique values in the list: 12\n"
     ]
    }
   ],
   "source": [
    "values = [10, 11, 10, 8, 1, 12, 0, 1, 6, 5, 5, 13, 6, 15, 0, 0, 1, 1, 9, 7]\n",
    "\n",
    "# Use a set to filter out unique values\n",
    "unique_values = set(values)\n",
    "\n",
    "# Print the count of unique elements\n",
    "print(\"Count of unique values in the list:\", len(unique_values))"
   ]
  },
  {
   "cell_type": "markdown",
   "metadata": {},
   "source": [
    "## Question 10\n",
    "Create a new Jupyter Notebook (the name of the notebook should be your S number). Add a Markdown cell that contains your name. Add a Code cell and write Python that uses loops to draw the following pattern:\n",
    "\n",
    "```\n",
    "*      *\n",
    "**    **\n",
    "***  ***\n",
    "********\n",
    "```\n",
    "Make sure to add and submit both the new notebook and the changes to this notebook for this assignment."
   ]
  }
 ],
 "metadata": {
  "kernelspec": {
   "display_name": ".venv",
   "language": "python",
   "name": "python3"
  },
  "language_info": {
   "codemirror_mode": {
    "name": "ipython",
    "version": 3
   },
   "file_extension": ".py",
   "mimetype": "text/x-python",
   "name": "python",
   "nbconvert_exporter": "python",
   "pygments_lexer": "ipython3",
   "version": "3.12.7"
  }
 },
 "nbformat": 4,
 "nbformat_minor": 4
}
