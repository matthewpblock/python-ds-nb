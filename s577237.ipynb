{
 "cells": [
  {
   "cell_type": "markdown",
   "id": "bea39dc6",
   "metadata": {},
   "source": [
    "# Matthew Block\n",
    "[https://github.com/matthewpblock/python-ds-nb](https://github.com/matthewpblock/python-ds-nb)\n"
   ]
  },
  {
   "cell_type": "code",
   "execution_count": null,
   "id": "546351e3",
   "metadata": {},
   "outputs": [
    {
     "name": "stdout",
     "output_type": "stream",
     "text": [
      "*      *\n",
      "**    **\n",
      "***  ***\n",
      "********\n"
     ]
    }
   ],
   "source": [
    "# Python code to print a pattern of stars\n",
    "rows = 4\n",
    "for i in range(1, rows + 1):\n",
    "    # Left stars\n",
    "    left = '*' * i\n",
    "    # Middle spaces\n",
    "    spaces = ' ' * (2 * (rows - i))\n",
    "    # Right stars\n",
    "    right = '*' * i\n",
    "    # Combine and print the row\n",
    "    print(left + spaces + right)"
   ]
  }
 ],
 "metadata": {
  "kernelspec": {
   "display_name": ".venv",
   "language": "python",
   "name": "python3"
  },
  "language_info": {
   "codemirror_mode": {
    "name": "ipython",
    "version": 3
   },
   "file_extension": ".py",
   "mimetype": "text/x-python",
   "name": "python",
   "nbconvert_exporter": "python",
   "pygments_lexer": "ipython3",
   "version": "3.12.7"
  }
 },
 "nbformat": 4,
 "nbformat_minor": 5
}
